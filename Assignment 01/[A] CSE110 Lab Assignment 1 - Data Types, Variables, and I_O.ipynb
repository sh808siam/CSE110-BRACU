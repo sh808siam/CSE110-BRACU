{
  "nbformat": 4,
  "nbformat_minor": 0,
  "metadata": {
    "colab": {
      "provenance": []
    },
    "kernelspec": {
      "name": "python3",
      "display_name": "Python 3"
    },
    "language_info": {
      "name": "python"
    }
  },
  "cells": [
    {
      "cell_type": "markdown",
      "source": [
        "TASK 1"
      ],
      "metadata": {
        "id": "xvmR-PkX6o66"
      }
    },
    {
      "cell_type": "code",
      "source": [
        "print (\"hello world\")"
      ],
      "metadata": {
        "id": "WmhQpw0vCRvC"
      },
      "execution_count": null,
      "outputs": []
    },
    {
      "cell_type": "markdown",
      "source": [
        "TASK 2"
      ],
      "metadata": {
        "id": "4ODz7jn86rUb"
      }
    },
    {
      "cell_type": "code",
      "source": [
        "print (54 + 56)"
      ],
      "metadata": {
        "id": "Ja31oRu8FNFF"
      },
      "execution_count": null,
      "outputs": []
    },
    {
      "cell_type": "markdown",
      "source": [
        "TASK 3"
      ],
      "metadata": {
        "id": "3HDAtwWV6tpN"
      }
    },
    {
      "cell_type": "code",
      "source": [
        "season = \"Fall\"\n",
        "year = 2022\n",
        "print (season)\n",
        "print (year)"
      ],
      "metadata": {
        "id": "grOA2aA_F4D9"
      },
      "execution_count": null,
      "outputs": []
    },
    {
      "cell_type": "markdown",
      "source": [
        "TASK 4"
      ],
      "metadata": {
        "id": "wULcLNVc6v_u"
      }
    },
    {
      "cell_type": "code",
      "source": [
        "name =  input(\"Please enter your name: \")\n",
        "print (\"Your name is \" + name)"
      ],
      "metadata": {
        "id": "NTRnBCImHXIJ"
      },
      "execution_count": null,
      "outputs": []
    },
    {
      "cell_type": "markdown",
      "source": [
        "TASK 5"
      ],
      "metadata": {
        "id": "-Au9LAEb6x-K"
      }
    },
    {
      "cell_type": "code",
      "source": [
        "import math\n",
        "base = int(input(\"Please enter the base \"))\n",
        "power = int(input(\"Please enter the power \"))\n",
        "calc = int(math.pow(base,power))\n",
        "print(\"The result is \", base,\"^\",power,\": \", calc, sep=\"\")"
      ],
      "metadata": {
        "id": "ouP3d43uIpql"
      },
      "execution_count": null,
      "outputs": []
    },
    {
      "cell_type": "markdown",
      "source": [
        "TASK 6"
      ],
      "metadata": {
        "id": "7kpv8w8w6z5d"
      }
    },
    {
      "cell_type": "code",
      "source": [
        "totalWeight = int(input(\"Please enter total weight: \"))\n",
        "dividedWeight = int(totalWeight//4)\n",
        "result = int(dividedWeight*4)\n",
        "print(\"Maximum amount of weight that can be carried is\",result)"
      ],
      "metadata": {
        "id": "Y9q3mtaeOWRc"
      },
      "execution_count": null,
      "outputs": []
    },
    {
      "cell_type": "markdown",
      "source": [
        "TASK 7"
      ],
      "metadata": {
        "id": "vPZooOET61XF"
      }
    },
    {
      "cell_type": "code",
      "source": [
        "A = int(input(\"Please enter an integer: \"))\n",
        "B = int(input(\"Please enter another integer: \"))\n",
        "C = int(input(\"Please enter another integer: \"))\n",
        "D = float(input(\"Please enter a floating point: \"))\n",
        "print(\"Applying the formula:\",int(A ** C + B * A - D / 3))"
      ],
      "metadata": {
        "id": "Q4rnVkMrYLeC"
      },
      "execution_count": null,
      "outputs": []
    },
    {
      "cell_type": "markdown",
      "source": [
        "TASK 8"
      ],
      "metadata": {
        "id": "ZpOL9kcF63HT"
      }
    },
    {
      "cell_type": "code",
      "source": [
        "candy = int(input(\"Please provide the number of chocolates: \"))\n",
        "print(\"Each friend will receive\" , int(candy/3) , \"chocolates\")\n",
        "print(\"The number of remaining chocolates is\" , int(candy%3))"
      ],
      "metadata": {
        "id": "NwJY9DZ5dDMk"
      },
      "execution_count": null,
      "outputs": []
    },
    {
      "cell_type": "markdown",
      "source": [
        "\n",
        "\n",
        "---\n",
        "\n",
        "\n",
        "<p align = \"center\">𝐎𝐩𝐭𝐢𝐨𝐧𝐚𝐥𝐬 / 𝐔𝐧𝐠𝐫𝐚𝐝𝐞𝐝</p>\n",
        "\n",
        "---\n",
        "\n",
        "\n",
        "\n",
        "\n"
      ],
      "metadata": {
        "id": "eDkdbt-co9nP"
      }
    },
    {
      "cell_type": "markdown",
      "source": [
        "TASK 9"
      ],
      "metadata": {
        "id": "bTqBRLCM65Fw"
      }
    },
    {
      "cell_type": "code",
      "source": [
        "M = input(\"Enter the value for M: \")\n",
        "N = input(\"Enter the value for N: \")\n",
        "result = N + M\n",
        "print(result)"
      ],
      "metadata": {
        "id": "CAFrKyRm8srU"
      },
      "execution_count": null,
      "outputs": []
    },
    {
      "cell_type": "markdown",
      "source": [
        "TASK 10"
      ],
      "metadata": {
        "id": "6NzbLtJy66r0"
      }
    },
    {
      "cell_type": "code",
      "source": [
        "line=input(\"Please enter your line: \")\n",
        "print(\"The first character is: \",line[0])"
      ],
      "metadata": {
        "id": "ofQT7HDa8t0P"
      },
      "execution_count": null,
      "outputs": []
    },
    {
      "cell_type": "markdown",
      "source": [
        "TASK 11"
      ],
      "metadata": {
        "id": "4E1xNX6N68XB"
      }
    },
    {
      "cell_type": "code",
      "source": [
        "num = int(input(\"Please enter a number to check if it is even or not: \"))\n",
        "if (num % 2) == 0 :\n",
        "  print(\"True\")\n",
        "else :\n",
        "  print(\"False\")"
      ],
      "metadata": {
        "id": "9DYY22_F9z98"
      },
      "execution_count": null,
      "outputs": []
    }
  ]
}